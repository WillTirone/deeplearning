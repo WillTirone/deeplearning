{
 "cells": [
  {
   "cell_type": "markdown",
   "id": "521a2b82-35a4-46c2-b294-2ba089d19e26",
   "metadata": {},
   "source": [
    "# Ch. 1 \n",
    "\n",
    "* gradient boosting for shallow learning problems \n",
    "* deep learning for perceptual problems \n",
    "\n",
    "on page 22 "
   ]
  },
  {
   "cell_type": "code",
   "execution_count": null,
   "id": "3d5a9979-ef6d-45f9-96a6-bc9e3d44fe4a",
   "metadata": {},
   "outputs": [],
   "source": []
  }
 ],
 "metadata": {
  "kernelspec": {
   "display_name": "Python 3 (ipykernel)",
   "language": "python",
   "name": "python3"
  },
  "language_info": {
   "codemirror_mode": {
    "name": "ipython",
    "version": 3
   },
   "file_extension": ".py",
   "mimetype": "text/x-python",
   "name": "python",
   "nbconvert_exporter": "python",
   "pygments_lexer": "ipython3",
   "version": "3.9.7"
  }
 },
 "nbformat": 4,
 "nbformat_minor": 5
}
