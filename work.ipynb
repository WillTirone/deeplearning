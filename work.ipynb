{
 "cells": [
  {
   "cell_type": "code",
   "execution_count": 49,
   "id": "fec3ef24-df55-4956-afb8-fa0bed24dcd8",
   "metadata": {},
   "outputs": [],
   "source": [
    "\n",
    "import numpy as np\n",
    "from keras import models\n",
    "from keras import layers\n",
    "from keras.datasets import imdb, reuters, boston_housing\n",
    "from keras.utils import to_categorical\n",
    "import matplotlib.pyplot as plt\n",
    "import pandas as pd "
   ]
  },
  {
   "cell_type": "code",
   "execution_count": null,
   "id": "3528a42f-7792-4e75-a013-7e0c1b9943f3",
   "metadata": {},
   "outputs": [],
   "source": []
  },
  {
   "cell_type": "markdown",
   "id": "521a2b82-35a4-46c2-b294-2ba089d19e26",
   "metadata": {
    "jp-MarkdownHeadingCollapsed": true
   },
   "source": [
    "# Ch. 1 "
   ]
  },
  {
   "cell_type": "markdown",
   "id": "eadf11da-c224-4a73-b89f-75bdf0fc9a16",
   "metadata": {},
   "source": [
    "* gradient boosting for shallow learning problems \n",
    "* deep learning for perceptual problems \n",
    "\n",
    "on page 22 on 1/20/24"
   ]
  },
  {
   "cell_type": "code",
   "execution_count": 1,
   "id": "3d5a9979-ef6d-45f9-96a6-bc9e3d44fe4a",
   "metadata": {},
   "outputs": [],
   "source": [
    "import numpy as np "
   ]
  },
  {
   "cell_type": "code",
   "execution_count": 28,
   "id": "6284182b-d101-48b6-880e-c3507c592793",
   "metadata": {},
   "outputs": [],
   "source": [
    "x = np.random.uniform(-5,5, (4,4))\n",
    "y = np.random.uniform(-5,5, (4,4))"
   ]
  },
  {
   "cell_type": "code",
   "execution_count": 22,
   "id": "b5dca4b7-6507-464b-8613-4d4e57df7ac9",
   "metadata": {},
   "outputs": [],
   "source": [
    "def naive_relu(x):\n",
    "    assert len(x.shape) == 2\n",
    "    \n",
    "    x = x.copy()\n",
    "    \n",
    "    for i in range(x.shape[0]):\n",
    "        for j in range(x.shape[1]):\n",
    "            x[i, j] = max(x[i, j], 0)\n",
    "            \n",
    "    return x"
   ]
  },
  {
   "cell_type": "code",
   "execution_count": 30,
   "id": "d536ff3d-f535-4fe9-9a31-26dd345b5cb5",
   "metadata": {},
   "outputs": [
    {
     "data": {
      "text/plain": [
       "array([[2.84252693, 0.        , 1.96052552, 0.91985948],\n",
       "       [0.        , 3.37685683, 0.        , 2.11250857],\n",
       "       [3.13430744, 0.        , 0.        , 0.        ],\n",
       "       [0.        , 4.78287969, 0.        , 0.        ]])"
      ]
     },
     "execution_count": 30,
     "metadata": {},
     "output_type": "execute_result"
    }
   ],
   "source": [
    "naive_relu(x)"
   ]
  },
  {
   "cell_type": "code",
   "execution_count": 31,
   "id": "5247b0cc-8d2f-4860-83cf-a6d2fdd698b3",
   "metadata": {},
   "outputs": [],
   "source": [
    "def naive_add(x, y):\n",
    "    \n",
    "    assert len(x.shape) == 2\n",
    "    assert x.shape == y.shape\n",
    "    \n",
    "    x = x.copy()\n",
    "    for i in range(x.shape[0]):\n",
    "        for j in range(x.shape[1]):\n",
    "            x[i, j] += y[i, j]\n",
    "            \n",
    "    return x"
   ]
  },
  {
   "cell_type": "code",
   "execution_count": 32,
   "id": "a7231ec9-e399-4139-a168-220408aec31d",
   "metadata": {},
   "outputs": [
    {
     "data": {
      "text/plain": [
       "array([[ 2.63696977, -2.30371666,  4.12741541, -3.06515319],\n",
       "       [-0.13951455,  1.32102723, -5.60457475,  4.73492214],\n",
       "       [ 1.79633823, -6.29120227, -2.33763904, -8.44410818],\n",
       "       [-2.1028077 ,  8.60946413, -6.65281469, -7.59659039]])"
      ]
     },
     "execution_count": 32,
     "metadata": {},
     "output_type": "execute_result"
    }
   ],
   "source": [
    "naive_add(x,y)"
   ]
  },
  {
   "cell_type": "code",
   "execution_count": 33,
   "id": "bad50ebb-41e8-4ce0-bc98-b00ea541571a",
   "metadata": {},
   "outputs": [],
   "source": [
    "z = x + y # element wise addition in numpy \n",
    "z = np.maximum(x, 0) # numpy implemented relu"
   ]
  },
  {
   "cell_type": "code",
   "execution_count": 47,
   "id": "3a5f2d2e-a831-41ae-8b85-5d93627a6fd6",
   "metadata": {},
   "outputs": [
    {
     "data": {
      "text/plain": [
       "(4, 4)"
      ]
     },
     "execution_count": 47,
     "metadata": {},
     "output_type": "execute_result"
    }
   ],
   "source": [
    "q = z.copy()\n",
    "q.shape"
   ]
  },
  {
   "cell_type": "code",
   "execution_count": 50,
   "id": "16832db4-7794-4030-ae79-d9ed1b8e3b5d",
   "metadata": {},
   "outputs": [
    {
     "data": {
      "text/plain": [
       "(16, 1)"
      ]
     },
     "execution_count": 50,
     "metadata": {},
     "output_type": "execute_result"
    }
   ],
   "source": [
    "q.reshape((16,1)).shape"
   ]
  },
  {
   "cell_type": "code",
   "execution_count": 57,
   "id": "a253fc4e-6ea6-49b6-bfa8-4352f08b2cb5",
   "metadata": {},
   "outputs": [
    {
     "data": {
      "text/plain": [
       "array([[1, 7],\n",
       "       [5, 1]])"
      ]
     },
     "execution_count": 57,
     "metadata": {},
     "output_type": "execute_result"
    }
   ],
   "source": [
    "A = np.array([[1,5], [7,1]])\n",
    "A.transpose()"
   ]
  },
  {
   "cell_type": "markdown",
   "id": "c7d5a0e6-f909-416b-9d84-178886f3c38a",
   "metadata": {},
   "source": [
    "On p. 46, ch. 2.4 on 1/22/24"
   ]
  },
  {
   "cell_type": "markdown",
   "id": "c96174bd-8655-4f79-b58d-f4cb8d3ee096",
   "metadata": {
    "jp-MarkdownHeadingCollapsed": true
   },
   "source": [
    "# Example 1 - imdb classification"
   ]
  },
  {
   "cell_type": "code",
   "execution_count": 2,
   "id": "ea3a1e5c-b223-467b-8000-2b26f8cd1d79",
   "metadata": {},
   "outputs": [],
   "source": [
    "(train_data, train_labels), (test_data, test_labels) = imdb.load_data(\n",
    "    num_words=10000)"
   ]
  },
  {
   "cell_type": "code",
   "execution_count": 3,
   "id": "ec2002e4-2644-4780-830b-0af28f7d6ef6",
   "metadata": {},
   "outputs": [
    {
     "data": {
      "text/plain": [
       "1"
      ]
     },
     "execution_count": 3,
     "metadata": {},
     "output_type": "execute_result"
    }
   ],
   "source": [
    "# there are a bunch of words associated with one review \n",
    "train_labels[0]"
   ]
  },
  {
   "cell_type": "code",
   "execution_count": 4,
   "id": "80e79cdd-204b-45db-a4e4-2076ebb7c688",
   "metadata": {},
   "outputs": [],
   "source": [
    "# decode review 0 back to english \n",
    "word_index = imdb.get_word_index()\n",
    "reverse_word_index = dict(\n",
    "    [(value, key) for (key, value) in word_index.items()])\n",
    "decoded_review = ' '.join(\n",
    "    [reverse_word_index.get(i - 3, '?') for i in train_data[0]])"
   ]
  },
  {
   "cell_type": "code",
   "execution_count": 5,
   "id": "4ad37fc3-b786-466c-a383-a6a0c3bd0220",
   "metadata": {},
   "outputs": [
    {
     "data": {
      "text/plain": [
       "218"
      ]
     },
     "execution_count": 5,
     "metadata": {},
     "output_type": "execute_result"
    }
   ],
   "source": [
    "len(decoded_review.split())"
   ]
  },
  {
   "cell_type": "code",
   "execution_count": 6,
   "id": "edbdf66d-e670-4288-8676-0206b40aa1d9",
   "metadata": {},
   "outputs": [
    {
     "data": {
      "text/plain": [
       "218"
      ]
     },
     "execution_count": 6,
     "metadata": {},
     "output_type": "execute_result"
    }
   ],
   "source": [
    "len(train_data[0]) # so each word corresponds to an index in training data."
   ]
  },
  {
   "cell_type": "code",
   "execution_count": 5,
   "id": "4cdafb97-bd21-42ac-a53e-46c33443309a",
   "metadata": {},
   "outputs": [],
   "source": [
    "def vectorize_sequences(sequences, dimension = 10000):\n",
    "    results = np.zeros((len(sequences), dimension))\n",
    "    for i, sequence in enumerate(sequences):\n",
    "        results[i, sequence] = 1.\n",
    "    return results "
   ]
  },
  {
   "cell_type": "code",
   "execution_count": 4,
   "id": "3bbd3cbd-23c8-4bb2-ba9c-c888eae58295",
   "metadata": {},
   "outputs": [],
   "source": [
    "x_train = vectorize_sequences(train_data)\n",
    "x_test = vectorize_sequences(test_data)\n",
    "\n",
    "y_train = np.asarray(train_labels).astype('float32')\n",
    "y_test = np.asarray(test_labels).astype('float32')"
   ]
  },
  {
   "cell_type": "markdown",
   "id": "1f7d031e-67c4-4bb6-b175-2c6170b5dfa1",
   "metadata": {
    "jp-MarkdownHeadingCollapsed": true
   },
   "source": [
    "## Build the model\n",
    "\n",
    "- outputting probabilities, so use `binary_crossentropy`"
   ]
  },
  {
   "cell_type": "code",
   "execution_count": 6,
   "id": "ec7cfda5-ea73-4919-82c6-0f595e238bf0",
   "metadata": {},
   "outputs": [],
   "source": [
    "model = models.Sequential()\n",
    "model.add(layers.Dense(16, activation='relu'))\n",
    "model.add(layers.Dense(1, activation='sigmoid'))"
   ]
  },
  {
   "cell_type": "code",
   "execution_count": 8,
   "id": "f98a122f-0ef3-458a-a5b3-b171b5011943",
   "metadata": {},
   "outputs": [],
   "source": [
    "model.compile(optimizer='rmsprop',\n",
    "              loss='mse',\n",
    "              metrics=['accuracy'])"
   ]
  },
  {
   "cell_type": "code",
   "execution_count": 9,
   "id": "18ca7afd-bd53-49f5-9a7c-b28b02bfa520",
   "metadata": {},
   "outputs": [],
   "source": [
    "# validation set \n",
    "x_val = x_train[:10000]\n",
    "partial_x_train = x_train[10000:]\n",
    "y_val = y_train[:10000]\n",
    "partial_y_train = y_train[10000:]"
   ]
  },
  {
   "cell_type": "code",
   "execution_count": 10,
   "id": "1455e9db-7d85-4bab-a6cc-fe67f1dd80b8",
   "metadata": {},
   "outputs": [
    {
     "name": "stdout",
     "output_type": "stream",
     "text": [
      "Epoch 1/20\n",
      "\u001b[1m30/30\u001b[0m \u001b[32m━━━━━━━━━━━━━━━━━━━━\u001b[0m\u001b[37m\u001b[0m \u001b[1m2s\u001b[0m 61ms/step - accuracy: 0.6953 - loss: 0.2098 - val_accuracy: 0.8385 - val_loss: 0.1428\n",
      "Epoch 2/20\n",
      "\u001b[1m30/30\u001b[0m \u001b[32m━━━━━━━━━━━━━━━━━━━━\u001b[0m\u001b[37m\u001b[0m \u001b[1m2s\u001b[0m 58ms/step - accuracy: 0.8765 - loss: 0.1222 - val_accuracy: 0.8710 - val_loss: 0.1117\n",
      "Epoch 3/20\n",
      "\u001b[1m30/30\u001b[0m \u001b[32m━━━━━━━━━━━━━━━━━━━━\u001b[0m\u001b[37m\u001b[0m \u001b[1m2s\u001b[0m 58ms/step - accuracy: 0.9049 - loss: 0.0948 - val_accuracy: 0.8676 - val_loss: 0.1055\n",
      "Epoch 4/20\n",
      "\u001b[1m30/30\u001b[0m \u001b[32m━━━━━━━━━━━━━━━━━━━━\u001b[0m\u001b[37m\u001b[0m \u001b[1m2s\u001b[0m 58ms/step - accuracy: 0.9163 - loss: 0.0798 - val_accuracy: 0.8733 - val_loss: 0.0984\n",
      "Epoch 5/20\n",
      "\u001b[1m30/30\u001b[0m \u001b[32m━━━━━━━━━━━━━━━━━━━━\u001b[0m\u001b[37m\u001b[0m \u001b[1m2s\u001b[0m 62ms/step - accuracy: 0.9308 - loss: 0.0680 - val_accuracy: 0.8859 - val_loss: 0.0890\n",
      "Epoch 6/20\n",
      "\u001b[1m30/30\u001b[0m \u001b[32m━━━━━━━━━━━━━━━━━━━━\u001b[0m\u001b[37m\u001b[0m \u001b[1m2s\u001b[0m 58ms/step - accuracy: 0.9381 - loss: 0.0613 - val_accuracy: 0.8849 - val_loss: 0.0875\n",
      "Epoch 7/20\n",
      "\u001b[1m30/30\u001b[0m \u001b[32m━━━━━━━━━━━━━━━━━━━━\u001b[0m\u001b[37m\u001b[0m \u001b[1m2s\u001b[0m 58ms/step - accuracy: 0.9413 - loss: 0.0568 - val_accuracy: 0.8873 - val_loss: 0.0860\n",
      "Epoch 8/20\n",
      "\u001b[1m30/30\u001b[0m \u001b[32m━━━━━━━━━━━━━━━━━━━━\u001b[0m\u001b[37m\u001b[0m \u001b[1m2s\u001b[0m 58ms/step - accuracy: 0.9485 - loss: 0.0508 - val_accuracy: 0.8876 - val_loss: 0.0847\n",
      "Epoch 9/20\n",
      "\u001b[1m30/30\u001b[0m \u001b[32m━━━━━━━━━━━━━━━━━━━━\u001b[0m\u001b[37m\u001b[0m \u001b[1m2s\u001b[0m 57ms/step - accuracy: 0.9523 - loss: 0.0474 - val_accuracy: 0.8857 - val_loss: 0.0851\n",
      "Epoch 10/20\n",
      "\u001b[1m30/30\u001b[0m \u001b[32m━━━━━━━━━━━━━━━━━━━━\u001b[0m\u001b[37m\u001b[0m \u001b[1m2s\u001b[0m 59ms/step - accuracy: 0.9571 - loss: 0.0437 - val_accuracy: 0.8854 - val_loss: 0.0836\n",
      "Epoch 11/20\n",
      "\u001b[1m30/30\u001b[0m \u001b[32m━━━━━━━━━━━━━━━━━━━━\u001b[0m\u001b[37m\u001b[0m \u001b[1m2s\u001b[0m 58ms/step - accuracy: 0.9599 - loss: 0.0419 - val_accuracy: 0.8844 - val_loss: 0.0857\n",
      "Epoch 12/20\n",
      "\u001b[1m30/30\u001b[0m \u001b[32m━━━━━━━━━━━━━━━━━━━━\u001b[0m\u001b[37m\u001b[0m \u001b[1m2s\u001b[0m 62ms/step - accuracy: 0.9641 - loss: 0.0389 - val_accuracy: 0.8826 - val_loss: 0.0870\n",
      "Epoch 13/20\n",
      "\u001b[1m30/30\u001b[0m \u001b[32m━━━━━━━━━━━━━━━━━━━━\u001b[0m\u001b[37m\u001b[0m \u001b[1m2s\u001b[0m 58ms/step - accuracy: 0.9690 - loss: 0.0356 - val_accuracy: 0.8794 - val_loss: 0.0854\n",
      "Epoch 14/20\n",
      "\u001b[1m30/30\u001b[0m \u001b[32m━━━━━━━━━━━━━━━━━━━━\u001b[0m\u001b[37m\u001b[0m \u001b[1m2s\u001b[0m 57ms/step - accuracy: 0.9702 - loss: 0.0338 - val_accuracy: 0.8824 - val_loss: 0.0852\n",
      "Epoch 15/20\n",
      "\u001b[1m30/30\u001b[0m \u001b[32m━━━━━━━━━━━━━━━━━━━━\u001b[0m\u001b[37m\u001b[0m \u001b[1m2s\u001b[0m 56ms/step - accuracy: 0.9701 - loss: 0.0334 - val_accuracy: 0.8804 - val_loss: 0.0855\n",
      "Epoch 16/20\n",
      "\u001b[1m30/30\u001b[0m \u001b[32m━━━━━━━━━━━━━━━━━━━━\u001b[0m\u001b[37m\u001b[0m \u001b[1m2s\u001b[0m 58ms/step - accuracy: 0.9763 - loss: 0.0300 - val_accuracy: 0.8794 - val_loss: 0.0861\n",
      "Epoch 17/20\n",
      "\u001b[1m30/30\u001b[0m \u001b[32m━━━━━━━━━━━━━━━━━━━━\u001b[0m\u001b[37m\u001b[0m \u001b[1m2s\u001b[0m 57ms/step - accuracy: 0.9788 - loss: 0.0274 - val_accuracy: 0.8794 - val_loss: 0.0865\n",
      "Epoch 18/20\n",
      "\u001b[1m30/30\u001b[0m \u001b[32m━━━━━━━━━━━━━━━━━━━━\u001b[0m\u001b[37m\u001b[0m \u001b[1m2s\u001b[0m 58ms/step - accuracy: 0.9796 - loss: 0.0263 - val_accuracy: 0.8788 - val_loss: 0.0870\n",
      "Epoch 19/20\n",
      "\u001b[1m30/30\u001b[0m \u001b[32m━━━━━━━━━━━━━━━━━━━━\u001b[0m\u001b[37m\u001b[0m \u001b[1m2s\u001b[0m 61ms/step - accuracy: 0.9816 - loss: 0.0254 - val_accuracy: 0.8749 - val_loss: 0.0899\n",
      "Epoch 20/20\n",
      "\u001b[1m30/30\u001b[0m \u001b[32m━━━━━━━━━━━━━━━━━━━━\u001b[0m\u001b[37m\u001b[0m \u001b[1m2s\u001b[0m 57ms/step - accuracy: 0.9830 - loss: 0.0239 - val_accuracy: 0.8752 - val_loss: 0.0884\n"
     ]
    }
   ],
   "source": [
    "history = model.fit(partial_x_train,\n",
    "                    partial_y_train,\n",
    "                    epochs=20,\n",
    "                    batch_size=512,\n",
    "                    validation_data=(x_val, y_val))"
   ]
  },
  {
   "cell_type": "code",
   "execution_count": 11,
   "id": "9f37a6ea-1656-4e3c-8fc2-778e037faeec",
   "metadata": {},
   "outputs": [
    {
     "data": {
      "image/png": "[encoded data removed]",
      "text/plain": [
       "<Figure size 640x480 with 1 Axes>"
      ]
     },
     "metadata": {},
     "output_type": "display_data"
    }
   ],
   "source": [
    "\n",
    "history_dict = history.history\n",
    "loss_values = history_dict['loss']\n",
    "val_loss_values = history_dict['val_loss']\n",
    "epochs = range(1, len(history_dict['accuracy']) + 1)\n",
    "\n",
    "plt.plot(epochs, loss_values, 'go', label='Training loss')\n",
    "plt.plot(epochs, val_loss_values, 'b', label='Validation loss')\n",
    "plt.title('Training and validation loss')\n",
    "\n",
    "plt.xlabel('Epochs')\n",
    "plt.ylabel('Loss') \n",
    "plt.legend()\n",
    "plt.show()"
   ]
  },
  {
   "cell_type": "code",
   "execution_count": 12,
   "id": "0c08d151-c041-4259-aac1-aa1a3767b543",
   "metadata": {},
   "outputs": [
    {
     "data": {
      "image/png": "[encoded data removed]",
      "text/plain": [
       "<Figure size 640x480 with 1 Axes>"
      ]
     },
     "metadata": {},
     "output_type": "display_data"
    }
   ],
   "source": [
    "plt.clf()\n",
    "\n",
    "acc_values = history_dict['accuracy']\n",
    "val_acc_values = history_dict['val_accuracy']\n",
    "plt.plot(epochs, acc_values, 'ro', label='Training acc')\n",
    "plt.plot(epochs, val_acc_values, 'b', label='Validation acc')\n",
    "plt.title('Training and validation accuracy')\n",
    "plt.xlabel('Epochs')\n",
    "plt.ylabel('Loss')\n",
    "plt.legend()\n",
    "plt.show()"
   ]
  },
  {
   "cell_type": "code",
   "execution_count": 13,
   "id": "197e56fc-c63a-4c93-96bf-a1a346946118",
   "metadata": {},
   "outputs": [
    {
     "name": "stdout",
     "output_type": "stream",
     "text": [
      "Epoch 1/4\n",
      "\u001b[1m49/49\u001b[0m \u001b[32m━━━━━━━━━━━━━━━━━━━━\u001b[0m\u001b[37m\u001b[0m \u001b[1m2s\u001b[0m 35ms/step - accuracy: 0.7364 - loss: 0.5659\n",
      "Epoch 2/4\n",
      "\u001b[1m49/49\u001b[0m \u001b[32m━━━━━━━━━━━━━━━━━━━━\u001b[0m\u001b[37m\u001b[0m \u001b[1m2s\u001b[0m 35ms/step - accuracy: 0.9012 - loss: 0.2924\n",
      "Epoch 3/4\n",
      "\u001b[1m49/49\u001b[0m \u001b[32m━━━━━━━━━━━━━━━━━━━━\u001b[0m\u001b[37m\u001b[0m \u001b[1m2s\u001b[0m 35ms/step - accuracy: 0.9215 - loss: 0.2208\n",
      "Epoch 4/4\n",
      "\u001b[1m49/49\u001b[0m \u001b[32m━━━━━━━━━━━━━━━━━━━━\u001b[0m\u001b[37m\u001b[0m \u001b[1m2s\u001b[0m 36ms/step - accuracy: 0.9366 - loss: 0.1850\n",
      "\u001b[1m782/782\u001b[0m \u001b[32m━━━━━━━━━━━━━━━━━━━━\u001b[0m\u001b[37m\u001b[0m \u001b[1m3s\u001b[0m 3ms/step - accuracy: 0.8844 - loss: 0.2868\n"
     ]
    }
   ],
   "source": [
    "# retrain from scracth with only 4 epochs\n",
    "\n",
    "model = models.Sequential()\n",
    "model.add(layers.Dense(16, activation='relu'))\n",
    "model.add(layers.Dense(16, activation='relu'))\n",
    "model.add(layers.Dense(1, activation='sigmoid'))\n",
    "\n",
    "model.compile(optimizer='rmsprop',\n",
    "              loss='binary_crossentropy',\n",
    "              metrics=['accuracy'])\n",
    "\n",
    "model.fit(x_train, y_train, epochs=4, batch_size=512)\n",
    "results = model.evaluate(x_test, y_test)"
   ]
  },
  {
   "cell_type": "code",
   "execution_count": 14,
   "id": "f86b74ee-61d6-4569-a21f-8eb8da1223b9",
   "metadata": {},
   "outputs": [
    {
     "data": {
      "text/plain": [
       "[0.28355661034584045, 0.8869085907936096]"
      ]
     },
     "execution_count": 14,
     "metadata": {},
     "output_type": "execute_result"
    }
   ],
   "source": [
    "results"
   ]
  },
  {
   "cell_type": "code",
   "execution_count": 15,
   "id": "dd00f1c9-a1d0-4101-9997-d2b06317d210",
   "metadata": {},
   "outputs": [
    {
     "name": "stdout",
     "output_type": "stream",
     "text": [
      "\u001b[1m782/782\u001b[0m \u001b[32m━━━━━━━━━━━━━━━━━━━━\u001b[0m\u001b[37m\u001b[0m \u001b[1m1s\u001b[0m 2ms/step\n"
     ]
    },
    {
     "data": {
      "text/plain": [
       "array([[0.99943644],\n",
       "       [0.00821803],\n",
       "       [0.36736912]], dtype=float32)"
      ]
     },
     "execution_count": 15,
     "metadata": {},
     "output_type": "execute_result"
    }
   ],
   "source": [
    "# likelihood of test reviews being positive\n",
    "model.predict(x_test)[[1,50,250]]"
   ]
  },
  {
   "cell_type": "markdown",
   "id": "b4eab7fd-58aa-4931-abca-c4303358647e",
   "metadata": {},
   "source": [
    "stopping on 3.4.6 p. 77"
   ]
  },
  {
   "cell_type": "markdown",
   "id": "009b601f-24e2-426f-93b7-cb83f6b318e1",
   "metadata": {
    "jp-MarkdownHeadingCollapsed": true
   },
   "source": [
    "# Example 2 (3.5, p. 78)"
   ]
  },
  {
   "cell_type": "code",
   "execution_count": 6,
   "id": "67d08397-edeb-4ad8-b1af-44d2f5b9c022",
   "metadata": {},
   "outputs": [],
   "source": [
    "(train_data, train_labels), (test_data, test_labels) = reuters.load_data(num_words=10000)"
   ]
  },
  {
   "cell_type": "code",
   "execution_count": 7,
   "id": "37620fd8-5e6a-4372-8945-89f0c5aa59c8",
   "metadata": {},
   "outputs": [],
   "source": [
    "x_train = vectorize_sequences(train_data)\n",
    "x_test = vectorize_sequences(test_data)"
   ]
  },
  {
   "cell_type": "code",
   "execution_count": 10,
   "id": "75c2f84c-e5d3-4c39-b78b-b5218f2e67e9",
   "metadata": {},
   "outputs": [
    {
     "data": {
      "text/plain": [
       "(2246, 10000)"
      ]
     },
     "execution_count": 10,
     "metadata": {},
     "output_type": "execute_result"
    }
   ],
   "source": [
    "x_test.shape"
   ]
  },
  {
   "cell_type": "code",
   "execution_count": 11,
   "id": "4d090207-9a35-40bb-8e39-19cc387ca2cf",
   "metadata": {},
   "outputs": [],
   "source": [
    "one_hot_train_labels = to_categorical(train_labels)\n",
    "one_hot_test_labels = to_categorical(test_labels)"
   ]
  },
  {
   "cell_type": "code",
   "execution_count": 12,
   "id": "d17ea2c4-67ab-4074-9a31-77a0e57613c0",
   "metadata": {},
   "outputs": [
    {
     "data": {
      "text/plain": [
       "(8982, 46)"
      ]
     },
     "execution_count": 12,
     "metadata": {},
     "output_type": "execute_result"
    }
   ],
   "source": [
    "one_hot_train_labels.shape"
   ]
  },
  {
   "cell_type": "code",
   "execution_count": 13,
   "id": "ee41ee0b-d6d7-4ad9-8e52-7f5c9ad4d43c",
   "metadata": {},
   "outputs": [],
   "source": [
    "model = models.Sequential()\n",
    "model.add(layers.Dense(64, activation='relu'))\n",
    "model.add(layers.Dense(64, activation='relu'))\n",
    "model.add(layers.Dense(46, activation='softmax'))"
   ]
  },
  {
   "cell_type": "code",
   "execution_count": 14,
   "id": "93b0f6a9-66c3-40f0-aeca-cdc6629f9dd0",
   "metadata": {},
   "outputs": [],
   "source": [
    "model.compile(optimizer='rmsprop',\n",
    "    loss='categorical_crossentropy', # distance between two probability dist.\n",
    "    metrics=['accuracy'])"
   ]
  },
  {
   "cell_type": "code",
   "execution_count": 15,
   "id": "ea8f7afb-fc60-42c7-bed2-4fa23f9dd045",
   "metadata": {},
   "outputs": [],
   "source": [
    "x_val = x_train[:1000]\n",
    "partial_x_train = x_train[1000:]\n",
    "y_val = one_hot_train_labels[:1000]\n",
    "partial_y_train = one_hot_train_labels[1000:]"
   ]
  },
  {
   "cell_type": "code",
   "execution_count": 16,
   "id": "74e50796-96fd-4170-abeb-9a60d8a2da8b",
   "metadata": {},
   "outputs": [
    {
     "name": "stdout",
     "output_type": "stream",
     "text": [
      "Epoch 1/20\n",
      "\u001b[1m16/16\u001b[0m \u001b[32m━━━━━━━━━━━━━━━━━━━━\u001b[0m\u001b[37m\u001b[0m \u001b[1m2s\u001b[0m 45ms/step - accuracy: 0.3255 - loss: 3.2668 - val_accuracy: 0.6020 - val_loss: 1.9111\n",
      "Epoch 2/20\n",
      "\u001b[1m16/16\u001b[0m \u001b[32m━━━━━━━━━━━━━━━━━━━━\u001b[0m\u001b[37m\u001b[0m \u001b[1m1s\u001b[0m 39ms/step - accuracy: 0.6507 - loss: 1.7201 - val_accuracy: 0.6880 - val_loss: 1.4135\n",
      "Epoch 3/20\n",
      "\u001b[1m16/16\u001b[0m \u001b[32m━━━━━━━━━━━━━━━━━━━━\u001b[0m\u001b[37m\u001b[0m \u001b[1m1s\u001b[0m 37ms/step - accuracy: 0.7298 - loss: 1.2610 - val_accuracy: 0.7250 - val_loss: 1.2134\n",
      "Epoch 4/20\n",
      "\u001b[1m16/16\u001b[0m \u001b[32m━━━━━━━━━━━━━━━━━━━━\u001b[0m\u001b[37m\u001b[0m \u001b[1m1s\u001b[0m 37ms/step - accuracy: 0.7760 - loss: 1.0390 - val_accuracy: 0.7530 - val_loss: 1.0967\n",
      "Epoch 5/20\n",
      "\u001b[1m16/16\u001b[0m \u001b[32m━━━━━━━━━━━━━━━━━━━━\u001b[0m\u001b[37m\u001b[0m \u001b[1m1s\u001b[0m 37ms/step - accuracy: 0.8180 - loss: 0.8601 - val_accuracy: 0.7830 - val_loss: 1.0112\n",
      "Epoch 6/20\n",
      "\u001b[1m16/16\u001b[0m \u001b[32m━━━━━━━━━━━━━━━━━━━━\u001b[0m\u001b[37m\u001b[0m \u001b[1m1s\u001b[0m 37ms/step - accuracy: 0.8468 - loss: 0.7017 - val_accuracy: 0.7920 - val_loss: 0.9726\n",
      "Epoch 7/20\n",
      "\u001b[1m16/16\u001b[0m \u001b[32m━━━━━━━━━━━━━━━━━━━━\u001b[0m\u001b[37m\u001b[0m \u001b[1m1s\u001b[0m 37ms/step - accuracy: 0.8704 - loss: 0.6053 - val_accuracy: 0.8060 - val_loss: 0.9229\n",
      "Epoch 8/20\n",
      "\u001b[1m16/16\u001b[0m \u001b[32m━━━━━━━━━━━━━━━━━━━━\u001b[0m\u001b[37m\u001b[0m \u001b[1m1s\u001b[0m 39ms/step - accuracy: 0.8943 - loss: 0.4990 - val_accuracy: 0.8190 - val_loss: 0.8935\n",
      "Epoch 9/20\n",
      "\u001b[1m16/16\u001b[0m \u001b[32m━━━━━━━━━━━━━━━━━━━━\u001b[0m\u001b[37m\u001b[0m \u001b[1m1s\u001b[0m 37ms/step - accuracy: 0.9145 - loss: 0.4188 - val_accuracy: 0.8190 - val_loss: 0.8855\n",
      "Epoch 10/20\n",
      "\u001b[1m16/16\u001b[0m \u001b[32m━━━━━━━━━━━━━━━━━━━━\u001b[0m\u001b[37m\u001b[0m \u001b[1m1s\u001b[0m 38ms/step - accuracy: 0.9234 - loss: 0.3552 - val_accuracy: 0.8190 - val_loss: 0.8592\n",
      "Epoch 11/20\n",
      "\u001b[1m16/16\u001b[0m \u001b[32m━━━━━━━━━━━━━━━━━━━━\u001b[0m\u001b[37m\u001b[0m \u001b[1m1s\u001b[0m 37ms/step - accuracy: 0.9309 - loss: 0.3095 - val_accuracy: 0.8210 - val_loss: 0.8680\n",
      "Epoch 12/20\n",
      "\u001b[1m16/16\u001b[0m \u001b[32m━━━━━━━━━━━━━━━━━━━━\u001b[0m\u001b[37m\u001b[0m \u001b[1m1s\u001b[0m 37ms/step - accuracy: 0.9432 - loss: 0.2702 - val_accuracy: 0.8110 - val_loss: 0.9038\n",
      "Epoch 13/20\n",
      "\u001b[1m16/16\u001b[0m \u001b[32m━━━━━━━━━━━━━━━━━━━━\u001b[0m\u001b[37m\u001b[0m \u001b[1m1s\u001b[0m 37ms/step - accuracy: 0.9503 - loss: 0.2307 - val_accuracy: 0.8090 - val_loss: 0.8741\n",
      "Epoch 14/20\n",
      "\u001b[1m16/16\u001b[0m \u001b[32m━━━━━━━━━━━━━━━━━━━━\u001b[0m\u001b[37m\u001b[0m \u001b[1m1s\u001b[0m 37ms/step - accuracy: 0.9515 - loss: 0.1992 - val_accuracy: 0.8200 - val_loss: 0.8806\n",
      "Epoch 15/20\n",
      "\u001b[1m16/16\u001b[0m \u001b[32m━━━━━━━━━━━━━━━━━━━━\u001b[0m\u001b[37m\u001b[0m \u001b[1m1s\u001b[0m 37ms/step - accuracy: 0.9525 - loss: 0.1858 - val_accuracy: 0.8150 - val_loss: 0.9149\n",
      "Epoch 16/20\n",
      "\u001b[1m16/16\u001b[0m \u001b[32m━━━━━━━━━━━━━━━━━━━━\u001b[0m\u001b[37m\u001b[0m \u001b[1m1s\u001b[0m 37ms/step - accuracy: 0.9573 - loss: 0.1692 - val_accuracy: 0.8110 - val_loss: 0.9039\n",
      "Epoch 17/20\n",
      "\u001b[1m16/16\u001b[0m \u001b[32m━━━━━━━━━━━━━━━━━━━━\u001b[0m\u001b[37m\u001b[0m \u001b[1m1s\u001b[0m 37ms/step - accuracy: 0.9570 - loss: 0.1610 - val_accuracy: 0.8090 - val_loss: 0.9474\n",
      "Epoch 18/20\n",
      "\u001b[1m16/16\u001b[0m \u001b[32m━━━━━━━━━━━━━━━━━━━━\u001b[0m\u001b[37m\u001b[0m \u001b[1m1s\u001b[0m 38ms/step - accuracy: 0.9574 - loss: 0.1476 - val_accuracy: 0.8150 - val_loss: 0.9114\n",
      "Epoch 19/20\n",
      "\u001b[1m16/16\u001b[0m \u001b[32m━━━━━━━━━━━━━━━━━━━━\u001b[0m\u001b[37m\u001b[0m \u001b[1m1s\u001b[0m 38ms/step - accuracy: 0.9599 - loss: 0.1334 - val_accuracy: 0.8120 - val_loss: 0.9263\n",
      "Epoch 20/20\n",
      "\u001b[1m16/16\u001b[0m \u001b[32m━━━━━━━━━━━━━━━━━━━━\u001b[0m\u001b[37m\u001b[0m \u001b[1m1s\u001b[0m 43ms/step - accuracy: 0.9565 - loss: 0.1359 - val_accuracy: 0.8130 - val_loss: 0.9403\n"
     ]
    }
   ],
   "source": [
    "history = model.fit(partial_x_train,\n",
    "                    partial_y_train,\n",
    "                    epochs=20,\n",
    "                    batch_size=512,\n",
    "                    validation_data=(x_val, y_val))"
   ]
  },
  {
   "cell_type": "code",
   "execution_count": 20,
   "id": "5c1729d2-88cf-4fbb-9dc4-981018438dd0",
   "metadata": {},
   "outputs": [
    {
     "data": {
      "image/png": "[encoded data removed]",
      "text/plain": [
       "<Figure size 640x480 with 1 Axes>"
      ]
     },
     "metadata": {},
     "output_type": "display_data"
    }
   ],
   "source": [
    "loss = history.history['loss']\n",
    "\n",
    "val_loss = history.history['val_loss']\n",
    "epochs = range(1, len(loss) + 1)\n",
    "\n",
    "plt.plot(epochs, loss, 'bo', label='Training loss')\n",
    "plt.plot(epochs, val_loss, 'b', label='Validation loss')\n",
    "plt.title('Training and validation loss')\n",
    "plt.xlabel('Epochs')\n",
    "plt.ylabel('Loss')\n",
    "plt.legend()\n",
    "plt.show()"
   ]
  },
  {
   "cell_type": "code",
   "execution_count": 21,
   "id": "17af6517-e7cb-447f-b129-d60ab457f839",
   "metadata": {},
   "outputs": [
    {
     "name": "stdout",
     "output_type": "stream",
     "text": [
      "\u001b[1m71/71\u001b[0m \u001b[32m━━━━━━━━━━━━━━━━━━━━\u001b[0m\u001b[37m\u001b[0m \u001b[1m0s\u001b[0m 2ms/step\n"
     ]
    }
   ],
   "source": [
    "predictions = model.predict(x_test)"
   ]
  },
  {
   "cell_type": "code",
   "execution_count": 23,
   "id": "5d2cc7e2-b21d-4a8a-b3ea-4d24946919f7",
   "metadata": {},
   "outputs": [
    {
     "data": {
      "text/plain": [
       "array([2.0242551e-06, 5.7900940e-07, 4.2857362e-08, 9.9168527e-01,\n",
       "       6.3425372e-03, 1.8690108e-07, 8.2426205e-08, 7.4395466e-06,\n",
       "       5.0971686e-04, 2.8696905e-07, 2.4642645e-06, 1.8637262e-05,\n",
       "       1.9637089e-06, 2.7996850e-05, 4.0892751e-08, 3.8118580e-07,\n",
       "       5.1444415e-05, 2.6809660e-06, 5.3776944e-07, 5.9205835e-04,\n",
       "       1.0923653e-04, 5.4594751e-05, 1.3687238e-06, 1.0566086e-07,\n",
       "       3.1153920e-08, 1.3727919e-06, 3.3347360e-09, 8.5947018e-09,\n",
       "       1.3501941e-07, 1.1072809e-06, 5.9103186e-06, 1.0458660e-06,\n",
       "       1.9640067e-06, 1.0997804e-06, 3.4929660e-06, 1.0925412e-06,\n",
       "       5.5697776e-04, 2.0930150e-07, 1.2073733e-07, 1.0216508e-05,\n",
       "       8.5491081e-08, 1.5442335e-07, 3.3400595e-06, 1.9340407e-08,\n",
       "       6.0825718e-09, 7.4975659e-08], dtype=float32)"
      ]
     },
     "execution_count": 23,
     "metadata": {},
     "output_type": "execute_result"
    }
   ],
   "source": [
    "predictions[0] # probabilities that each entry falls into a certain class "
   ]
  },
  {
   "cell_type": "code",
   "execution_count": 24,
   "id": "766e484a-698c-4437-ab91-69c57df2246b",
   "metadata": {},
   "outputs": [
    {
     "data": {
      "text/plain": [
       "0.9916853"
      ]
     },
     "execution_count": 24,
     "metadata": {},
     "output_type": "execute_result"
    }
   ],
   "source": [
    "max(predictions[0])"
   ]
  },
  {
   "cell_type": "code",
   "execution_count": 25,
   "id": "a2187773-710b-4aa9-8487-8bb55dc46343",
   "metadata": {},
   "outputs": [
    {
     "data": {
      "text/plain": [
       "3"
      ]
     },
     "execution_count": 25,
     "metadata": {},
     "output_type": "execute_result"
    }
   ],
   "source": [
    "np.argmax(predictions[0])"
   ]
  },
  {
   "cell_type": "markdown",
   "id": "d22efbb2-1a3d-4169-a9bc-edd5c7cf21c2",
   "metadata": {
    "jp-MarkdownHeadingCollapsed": true
   },
   "source": [
    "# Boston Housing Example"
   ]
  },
  {
   "cell_type": "code",
   "execution_count": 58,
   "id": "0b3ae2d6-2bbe-4511-9308-1e34e08960ef",
   "metadata": {},
   "outputs": [
    {
     "name": "stdout",
     "output_type": "stream",
     "text": [
      "Downloading data from https://storage.googleapis.com/tensorflow/tf-keras-datasets/boston_housing.npz\n",
      "\u001b[1m57026/57026\u001b[0m \u001b[32m━━━━━━━━━━━━━━━━━━━━\u001b[0m\u001b[37m\u001b[0m \u001b[1m0s\u001b[0m 1us/step\n"
     ]
    }
   ],
   "source": [
    "(train_data, train_targets), (test_data, test_targets) = boston_housing.load_data()"
   ]
  },
  {
   "cell_type": "code",
   "execution_count": 67,
   "id": "d6abc4cb-971e-475b-8185-6d4011eb3d8d",
   "metadata": {},
   "outputs": [],
   "source": [
    "# center and scale \n",
    "\n",
    "mean = train_data.mean(axis = 0)\n",
    "train_data -= mean \n",
    "std = train_data.std(axis=0)\n",
    "train_data /= std\n",
    "\n",
    "# never center and scale with data from the test data, creates look ahead bias \n",
    "test_data -= mean\n",
    "test_data /= std"
   ]
  },
  {
   "cell_type": "markdown",
   "id": "98e95959-78e0-4db3-95c6-25cbc465c612",
   "metadata": {},
   "source": [
    "We don't need an activation function as the last layer because we are fine with values $\\in [-\\infty, \\infty]$"
   ]
  },
  {
   "cell_type": "code",
   "execution_count": 68,
   "id": "b7b13645-828d-4412-a2e6-d0ccbd67495e",
   "metadata": {},
   "outputs": [],
   "source": [
    "# will build model multiple times \n",
    "def build_model():\n",
    "    model = models.Sequential()\n",
    "    model.add(layers.Dense(64, activation='relu'))\n",
    "    model.add(layers.Dense(64, activation='relu'))\n",
    "    model.add(layers.Dense(1))\n",
    "    model.compile(optimizer='rmsprop', loss='mse', metrics=['mae'])\n",
    "    return model"
   ]
  },
  {
   "cell_type": "markdown",
   "id": "be0b0145-927f-47a0-81be-797250892bdf",
   "metadata": {},
   "source": [
    "Manually doing k-fold cross validation"
   ]
  },
  {
   "cell_type": "code",
   "execution_count": 69,
   "id": "5128218b-fc83-4301-a7a0-fc22a40c91e6",
   "metadata": {},
   "outputs": [
    {
     "name": "stdout",
     "output_type": "stream",
     "text": [
      "processing fold # 0\n",
      "processing fold # 1\n",
      "processing fold # 2\n",
      "processing fold # 3\n"
     ]
    }
   ],
   "source": [
    "k = 4\n",
    "num_val_samples = len(train_data) // k\n",
    "num_epochs = 100\n",
    "all_scores = []\n",
    "\n",
    "for i in range(k):\n",
    "    print('processing fold #', i)\n",
    "    val_data = train_data[i * num_val_samples: (i + 1) * num_val_samples]\n",
    "    val_targets = train_targets[i * num_val_samples: (i + 1) * num_val_samples]\n",
    "    partial_train_data = np.concatenate([train_data[:i * num_val_samples], train_data[(i + 1) * num_val_samples:]], axis=0)\n",
    "\n",
    "    partial_train_targets = np.concatenate([train_targets[:i * num_val_samples], train_targets[(i + 1) * num_val_samples:]], axis=0)\n",
    "\n",
    "    model = build_model()\n",
    "    model.fit(partial_train_data, partial_train_targets, epochs=num_epochs, batch_size=1, verbose=0)\n",
    "    val_mse, val_mae = model.evaluate(val_data, val_targets, verbose=0)\n",
    "    all_scores.append(val_mae)"
   ]
  },
  {
   "cell_type": "markdown",
   "id": "8bca34e1-b9aa-458b-97ff-a75dbda1674a",
   "metadata": {},
   "source": [
    "# Ch. 4"
   ]
  },
  {
   "cell_type": "code",
   "execution_count": 70,
   "id": "7357cb30-265f-4d04-818a-854c448f7574",
   "metadata": {},
   "outputs": [],
   "source": [
    "# start on p. 94"
   ]
  },
  {
   "cell_type": "code",
   "execution_count": null,
   "id": "3c4a6d33-b6d6-4c6c-88ff-0444e1c79d5c",
   "metadata": {},
   "outputs": [],
   "source": []
  }
 ],
 "metadata": {
  "kernelspec": {
   "display_name": "Python 3 (ipykernel)",
   "language": "python",
   "name": "python3"
  },
  "language_info": {
   "codemirror_mode": {
    "name": "ipython",
    "version": 3
   },
   "file_extension": ".py",
   "mimetype": "text/x-python",
   "name": "python",
   "nbconvert_exporter": "python",
   "pygments_lexer": "ipython3",
   "version": "3.11.7"
  }
 },
 "nbformat": 4,
 "nbformat_minor": 5
}
