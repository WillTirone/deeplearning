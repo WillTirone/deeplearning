{
 "cells": [
  {
   "cell_type": "markdown",
   "id": "521a2b82-35a4-46c2-b294-2ba089d19e26",
   "metadata": {
    "jp-MarkdownHeadingCollapsed": true
   },
   "source": [
    "# Ch. 1 "
   ]
  },
  {
   "cell_type": "markdown",
   "id": "eadf11da-c224-4a73-b89f-75bdf0fc9a16",
   "metadata": {},
   "source": [
    "* gradient boosting for shallow learning problems \n",
    "* deep learning for perceptual problems \n",
    "\n",
    "on page 22 on 1/20/24"
   ]
  },
  {
   "cell_type": "code",
   "execution_count": 1,
   "id": "3d5a9979-ef6d-45f9-96a6-bc9e3d44fe4a",
   "metadata": {},
   "outputs": [],
   "source": [
    "import numpy as np "
   ]
  },
  {
   "cell_type": "code",
   "execution_count": 28,
   "id": "6284182b-d101-48b6-880e-c3507c592793",
   "metadata": {},
   "outputs": [],
   "source": [
    "x = np.random.uniform(-5,5, (4,4))\n",
    "y = np.random.uniform(-5,5, (4,4))"
   ]
  },
  {
   "cell_type": "code",
   "execution_count": 22,
   "id": "b5dca4b7-6507-464b-8613-4d4e57df7ac9",
   "metadata": {},
   "outputs": [],
   "source": [
    "def naive_relu(x):\n",
    "    assert len(x.shape) == 2\n",
    "    \n",
    "    x = x.copy()\n",
    "    \n",
    "    for i in range(x.shape[0]):\n",
    "        for j in range(x.shape[1]):\n",
    "            x[i, j] = max(x[i, j], 0)\n",
    "            \n",
    "    return x"
   ]
  },
  {
   "cell_type": "code",
   "execution_count": 30,
   "id": "d536ff3d-f535-4fe9-9a31-26dd345b5cb5",
   "metadata": {},
   "outputs": [
    {
     "data": {
      "text/plain": [
       "array([[2.84252693, 0.        , 1.96052552, 0.91985948],\n",
       "       [0.        , 3.37685683, 0.        , 2.11250857],\n",
       "       [3.13430744, 0.        , 0.        , 0.        ],\n",
       "       [0.        , 4.78287969, 0.        , 0.        ]])"
      ]
     },
     "execution_count": 30,
     "metadata": {},
     "output_type": "execute_result"
    }
   ],
   "source": [
    "naive_relu(x)"
   ]
  },
  {
   "cell_type": "code",
   "execution_count": 31,
   "id": "5247b0cc-8d2f-4860-83cf-a6d2fdd698b3",
   "metadata": {},
   "outputs": [],
   "source": [
    "def naive_add(x, y):\n",
    "    \n",
    "    assert len(x.shape) == 2\n",
    "    assert x.shape == y.shape\n",
    "    \n",
    "    x = x.copy()\n",
    "    for i in range(x.shape[0]):\n",
    "        for j in range(x.shape[1]):\n",
    "            x[i, j] += y[i, j]\n",
    "            \n",
    "    return x"
   ]
  },
  {
   "cell_type": "code",
   "execution_count": 32,
   "id": "a7231ec9-e399-4139-a168-220408aec31d",
   "metadata": {},
   "outputs": [
    {
     "data": {
      "text/plain": [
       "array([[ 2.63696977, -2.30371666,  4.12741541, -3.06515319],\n",
       "       [-0.13951455,  1.32102723, -5.60457475,  4.73492214],\n",
       "       [ 1.79633823, -6.29120227, -2.33763904, -8.44410818],\n",
       "       [-2.1028077 ,  8.60946413, -6.65281469, -7.59659039]])"
      ]
     },
     "execution_count": 32,
     "metadata": {},
     "output_type": "execute_result"
    }
   ],
   "source": [
    "naive_add(x,y)"
   ]
  },
  {
   "cell_type": "code",
   "execution_count": 33,
   "id": "bad50ebb-41e8-4ce0-bc98-b00ea541571a",
   "metadata": {},
   "outputs": [],
   "source": [
    "z = x + y # element wise addition in numpy \n",
    "z = np.maximum(x, 0) # numpy implemented relu"
   ]
  },
  {
   "cell_type": "code",
   "execution_count": 47,
   "id": "3a5f2d2e-a831-41ae-8b85-5d93627a6fd6",
   "metadata": {},
   "outputs": [
    {
     "data": {
      "text/plain": [
       "(4, 4)"
      ]
     },
     "execution_count": 47,
     "metadata": {},
     "output_type": "execute_result"
    }
   ],
   "source": [
    "q = z.copy()\n",
    "q.shape"
   ]
  },
  {
   "cell_type": "code",
   "execution_count": 50,
   "id": "16832db4-7794-4030-ae79-d9ed1b8e3b5d",
   "metadata": {},
   "outputs": [
    {
     "data": {
      "text/plain": [
       "(16, 1)"
      ]
     },
     "execution_count": 50,
     "metadata": {},
     "output_type": "execute_result"
    }
   ],
   "source": [
    "q.reshape((16,1)).shape"
   ]
  },
  {
   "cell_type": "code",
   "execution_count": 57,
   "id": "a253fc4e-6ea6-49b6-bfa8-4352f08b2cb5",
   "metadata": {},
   "outputs": [
    {
     "data": {
      "text/plain": [
       "array([[1, 7],\n",
       "       [5, 1]])"
      ]
     },
     "execution_count": 57,
     "metadata": {},
     "output_type": "execute_result"
    }
   ],
   "source": [
    "A = np.array([[1,5], [7,1]])\n",
    "A.transpose()"
   ]
  },
  {
   "cell_type": "markdown",
   "id": "c7d5a0e6-f909-416b-9d84-178886f3c38a",
   "metadata": {},
   "source": [
    "On p. 46, ch. 2.4 on 1/22/24"
   ]
  },
  {
   "cell_type": "markdown",
   "id": "c96174bd-8655-4f79-b58d-f4cb8d3ee096",
   "metadata": {},
   "source": [
    "# Example 1 - imdb classification"
   ]
  },
  {
   "cell_type": "code",
   "execution_count": 1,
   "id": "c58a14b1-a87b-451d-af6c-dfaf3fe97015",
   "metadata": {},
   "outputs": [],
   "source": [
    "from keras.datasets import imdb\n",
    "import numpy as np\n",
    "from keras import models\n",
    "from keras import layers\n",
    "import matplotlib.pyplot as plt"
   ]
  },
  {
   "cell_type": "code",
   "execution_count": 2,
   "id": "ea3a1e5c-b223-467b-8000-2b26f8cd1d79",
   "metadata": {},
   "outputs": [],
   "source": [
    "(train_data, train_labels), (test_data, test_labels) = imdb.load_data(\n",
    "    num_words=10000)"
   ]
  },
  {
   "cell_type": "code",
   "execution_count": 3,
   "id": "ec2002e4-2644-4780-830b-0af28f7d6ef6",
   "metadata": {},
   "outputs": [
    {
     "data": {
      "text/plain": [
       "1"
      ]
     },
     "execution_count": 3,
     "metadata": {},
     "output_type": "execute_result"
    }
   ],
   "source": [
    "# there are a bunch of words associated with one review \n",
    "train_labels[0]"
   ]
  },
  {
   "cell_type": "code",
   "execution_count": 4,
   "id": "80e79cdd-204b-45db-a4e4-2076ebb7c688",
   "metadata": {},
   "outputs": [],
   "source": [
    "# decode review 0 back to english \n",
    "word_index = imdb.get_word_index()\n",
    "reverse_word_index = dict(\n",
    "    [(value, key) for (key, value) in word_index.items()])\n",
    "decoded_review = ' '.join(\n",
    "    [reverse_word_index.get(i - 3, '?') for i in train_data[0]])"
   ]
  },
  {
   "cell_type": "code",
   "execution_count": 5,
   "id": "4ad37fc3-b786-466c-a383-a6a0c3bd0220",
   "metadata": {},
   "outputs": [
    {
     "data": {
      "text/plain": [
       "218"
      ]
     },
     "execution_count": 5,
     "metadata": {},
     "output_type": "execute_result"
    }
   ],
   "source": [
    "len(decoded_review.split())"
   ]
  },
  {
   "cell_type": "code",
   "execution_count": 6,
   "id": "edbdf66d-e670-4288-8676-0206b40aa1d9",
   "metadata": {},
   "outputs": [
    {
     "data": {
      "text/plain": [
       "218"
      ]
     },
     "execution_count": 6,
     "metadata": {},
     "output_type": "execute_result"
    }
   ],
   "source": [
    "len(train_data[0]) # so each word corresponds to an index in training data."
   ]
  },
  {
   "cell_type": "code",
   "execution_count": 7,
   "id": "4cdafb97-bd21-42ac-a53e-46c33443309a",
   "metadata": {},
   "outputs": [],
   "source": [
    "def vectorize_sequences(sequences, dimension = 10000):\n",
    "    results = np.zeros((len(sequences), dimension))\n",
    "    for i, sequence in enumerate(sequences):\n",
    "        results[i, sequence] = 1.\n",
    "    return results "
   ]
  },
  {
   "cell_type": "code",
   "execution_count": 8,
   "id": "3bbd3cbd-23c8-4bb2-ba9c-c888eae58295",
   "metadata": {},
   "outputs": [],
   "source": [
    "x_train = vectorize_sequences(train_data)\n",
    "x_test = vectorize_sequences(test_data)\n",
    "\n",
    "y_train = np.asarray(train_labels).astype('float32')\n",
    "y_test = np.asarray(test_labels).astype('float32')"
   ]
  },
  {
   "cell_type": "markdown",
   "id": "1f7d031e-67c4-4bb6-b175-2c6170b5dfa1",
   "metadata": {},
   "source": [
    "## Build the model\n",
    "\n",
    "- outputting probabilities, so use `binary_crossentropy`"
   ]
  },
  {
   "cell_type": "code",
   "execution_count": 9,
   "id": "ec7cfda5-ea73-4919-82c6-0f595e238bf0",
   "metadata": {},
   "outputs": [
    {
     "name": "stderr",
     "output_type": "stream",
     "text": [
      "/home/willtirone/anaconda3/envs/torch/lib/python3.11/site-packages/keras/src/layers/core/dense.py:85: UserWarning: Do not pass an `input_shape`/`input_dim` argument to a layer. When using Sequential models, prefer using an `Input(shape)` object as the first layer in the model instead.\n",
      "  super().__init__(activity_regularizer=activity_regularizer, **kwargs)\n"
     ]
    }
   ],
   "source": [
    "model = models.Sequential()\n",
    "model.add(layers.Dense(16, activation='relu', input_shape=(10000,)))\n",
    "model.add(layers.Dense(16, activation='relu'))\n",
    "model.add(layers.Dense(1, activation='sigmoid'))"
   ]
  },
  {
   "cell_type": "code",
   "execution_count": 10,
   "id": "f98a122f-0ef3-458a-a5b3-b171b5011943",
   "metadata": {},
   "outputs": [],
   "source": [
    "model.compile(optimizer='rmsprop',\n",
    "              loss='binary_crossentropy',\n",
    "              metrics=['accuracy'])"
   ]
  },
  {
   "cell_type": "code",
   "execution_count": 11,
   "id": "18ca7afd-bd53-49f5-9a7c-b28b02bfa520",
   "metadata": {},
   "outputs": [],
   "source": [
    "# validation set \n",
    "x_val = x_train[:10000]\n",
    "partial_x_train = x_train[10000:]\n",
    "y_val = y_train[:10000]\n",
    "partial_y_train = y_train[10000:]"
   ]
  },
  {
   "cell_type": "code",
   "execution_count": 12,
   "id": "1455e9db-7d85-4bab-a6cc-fe67f1dd80b8",
   "metadata": {},
   "outputs": [
    {
     "name": "stdout",
     "output_type": "stream",
     "text": [
      "Epoch 1/20\n",
      "\u001b[1m30/30\u001b[0m \u001b[32m━━━━━━━━━━━━━━━━━━━━\u001b[0m\u001b[37m\u001b[0m \u001b[1m2s\u001b[0m 64ms/step - accuracy: 0.6955 - loss: 0.5945 - val_accuracy: 0.8633 - val_loss: 0.3933\n",
      "Epoch 2/20\n",
      "\u001b[1m30/30\u001b[0m \u001b[32m━━━━━━━━━━━━━━━━━━━━\u001b[0m\u001b[37m\u001b[0m \u001b[1m2s\u001b[0m 60ms/step - accuracy: 0.8988 - loss: 0.3358 - val_accuracy: 0.8852 - val_loss: 0.3091\n",
      "Epoch 3/20\n",
      "\u001b[1m30/30\u001b[0m \u001b[32m━━━━━━━━━━━━━━━━━━━━\u001b[0m\u001b[37m\u001b[0m \u001b[1m2s\u001b[0m 59ms/step - accuracy: 0.9218 - loss: 0.2458 - val_accuracy: 0.8879 - val_loss: 0.2835\n",
      "Epoch 4/20\n",
      "\u001b[1m30/30\u001b[0m \u001b[32m━━━━━━━━━━━━━━━━━━━━\u001b[0m\u001b[37m\u001b[0m \u001b[1m2s\u001b[0m 61ms/step - accuracy: 0.9371 - loss: 0.1979 - val_accuracy: 0.8887 - val_loss: 0.2762\n",
      "Epoch 5/20\n",
      "\u001b[1m30/30\u001b[0m \u001b[32m━━━━━━━━━━━━━━━━━━━━\u001b[0m\u001b[37m\u001b[0m \u001b[1m2s\u001b[0m 64ms/step - accuracy: 0.9501 - loss: 0.1589 - val_accuracy: 0.8833 - val_loss: 0.2926\n",
      "Epoch 6/20\n",
      "\u001b[1m30/30\u001b[0m \u001b[32m━━━━━━━━━━━━━━━━━━━━\u001b[0m\u001b[37m\u001b[0m \u001b[1m2s\u001b[0m 61ms/step - accuracy: 0.9575 - loss: 0.1369 - val_accuracy: 0.8864 - val_loss: 0.2898\n",
      "Epoch 7/20\n",
      "\u001b[1m30/30\u001b[0m \u001b[32m━━━━━━━━━━━━━━━━━━━━\u001b[0m\u001b[37m\u001b[0m \u001b[1m2s\u001b[0m 61ms/step - accuracy: 0.9693 - loss: 0.1118 - val_accuracy: 0.8838 - val_loss: 0.3043\n",
      "Epoch 8/20\n",
      "\u001b[1m30/30\u001b[0m \u001b[32m━━━━━━━━━━━━━━━━━━━━\u001b[0m\u001b[37m\u001b[0m \u001b[1m2s\u001b[0m 58ms/step - accuracy: 0.9759 - loss: 0.0907 - val_accuracy: 0.8836 - val_loss: 0.3087\n",
      "Epoch 9/20\n",
      "\u001b[1m30/30\u001b[0m \u001b[32m━━━━━━━━━━━━━━━━━━━━\u001b[0m\u001b[37m\u001b[0m \u001b[1m2s\u001b[0m 59ms/step - accuracy: 0.9796 - loss: 0.0796 - val_accuracy: 0.8800 - val_loss: 0.3255\n",
      "Epoch 10/20\n",
      "\u001b[1m30/30\u001b[0m \u001b[32m━━━━━━━━━━━━━━━━━━━━\u001b[0m\u001b[37m\u001b[0m \u001b[1m2s\u001b[0m 59ms/step - accuracy: 0.9833 - loss: 0.0690 - val_accuracy: 0.8785 - val_loss: 0.3575\n",
      "Epoch 11/20\n",
      "\u001b[1m30/30\u001b[0m \u001b[32m━━━━━━━━━━━━━━━━━━━━\u001b[0m\u001b[37m\u001b[0m \u001b[1m2s\u001b[0m 63ms/step - accuracy: 0.9849 - loss: 0.0629 - val_accuracy: 0.8790 - val_loss: 0.3661\n",
      "Epoch 12/20\n",
      "\u001b[1m30/30\u001b[0m \u001b[32m━━━━━━━━━━━━━━━━━━━━\u001b[0m\u001b[37m\u001b[0m \u001b[1m2s\u001b[0m 65ms/step - accuracy: 0.9888 - loss: 0.0504 - val_accuracy: 0.8778 - val_loss: 0.3779\n",
      "Epoch 13/20\n",
      "\u001b[1m30/30\u001b[0m \u001b[32m━━━━━━━━━━━━━━━━━━━━\u001b[0m\u001b[37m\u001b[0m \u001b[1m2s\u001b[0m 62ms/step - accuracy: 0.9919 - loss: 0.0429 - val_accuracy: 0.8606 - val_loss: 0.4645\n",
      "Epoch 14/20\n",
      "\u001b[1m30/30\u001b[0m \u001b[32m━━━━━━━━━━━━━━━━━━━━\u001b[0m\u001b[37m\u001b[0m \u001b[1m2s\u001b[0m 62ms/step - accuracy: 0.9915 - loss: 0.0413 - val_accuracy: 0.8751 - val_loss: 0.4286\n",
      "Epoch 15/20\n",
      "\u001b[1m30/30\u001b[0m \u001b[32m━━━━━━━━━━━━━━━━━━━━\u001b[0m\u001b[37m\u001b[0m \u001b[1m2s\u001b[0m 58ms/step - accuracy: 0.9962 - loss: 0.0285 - val_accuracy: 0.8568 - val_loss: 0.5123\n",
      "Epoch 16/20\n",
      "\u001b[1m30/30\u001b[0m \u001b[32m━━━━━━━━━━━━━━━━━━━━\u001b[0m\u001b[37m\u001b[0m \u001b[1m2s\u001b[0m 60ms/step - accuracy: 0.9959 - loss: 0.0259 - val_accuracy: 0.8732 - val_loss: 0.4658\n",
      "Epoch 17/20\n",
      "\u001b[1m30/30\u001b[0m \u001b[32m━━━━━━━━━━━━━━━━━━━━\u001b[0m\u001b[37m\u001b[0m \u001b[1m2s\u001b[0m 58ms/step - accuracy: 0.9976 - loss: 0.0213 - val_accuracy: 0.8619 - val_loss: 0.5208\n",
      "Epoch 18/20\n",
      "\u001b[1m30/30\u001b[0m \u001b[32m━━━━━━━━━━━━━━━━━━━━\u001b[0m\u001b[37m\u001b[0m \u001b[1m2s\u001b[0m 60ms/step - accuracy: 0.9982 - loss: 0.0190 - val_accuracy: 0.8697 - val_loss: 0.5109\n",
      "Epoch 19/20\n",
      "\u001b[1m30/30\u001b[0m \u001b[32m━━━━━━━━━━━━━━━━━━━━\u001b[0m\u001b[37m\u001b[0m \u001b[1m2s\u001b[0m 63ms/step - accuracy: 0.9990 - loss: 0.0138 - val_accuracy: 0.8698 - val_loss: 0.5343\n",
      "Epoch 20/20\n",
      "\u001b[1m30/30\u001b[0m \u001b[32m━━━━━━━━━━━━━━━━━━━━\u001b[0m\u001b[37m\u001b[0m \u001b[1m2s\u001b[0m 60ms/step - accuracy: 0.9992 - loss: 0.0116 - val_accuracy: 0.8678 - val_loss: 0.5569\n"
     ]
    }
   ],
   "source": [
    "history = model.fit(partial_x_train,\n",
    "                    partial_y_train,\n",
    "                    epochs=20,\n",
    "                    batch_size=512,\n",
    "                    validation_data=(x_val, y_val))"
   ]
  },
  {
   "cell_type": "code",
   "execution_count": 49,
   "id": "a86fd625-46e4-4ebb-bcb9-68d3929186c3",
   "metadata": {},
   "outputs": [
    {
     "data": {
      "text/plain": [
       "dict_keys(['accuracy', 'loss', 'val_accuracy', 'val_loss'])"
      ]
     },
     "execution_count": 49,
     "metadata": {},
     "output_type": "execute_result"
    }
   ],
   "source": [
    "history_dict = history.history\n",
    "history_dict.keys() "
   ]
  },
  {
   "cell_type": "code",
   "execution_count": 20,
   "id": "9f37a6ea-1656-4e3c-8fc2-778e037faeec",
   "metadata": {},
   "outputs": [
    {
     "data": {
      "image/png": "[encoded data removed]",
      "text/plain": [
       "<Figure size 640x480 with 1 Axes>"
      ]
     },
     "metadata": {},
     "output_type": "display_data"
    }
   ],
   "source": [
    "\n",
    "history_dict = history.history\n",
    "loss_values = history_dict['loss']\n",
    "val_loss_values = history_dict['val_loss']\n",
    "epochs = range(1, len(history_dict['accuracy']) + 1)\n",
    "\n",
    "plt.plot(epochs, loss_values, 'go', label='Training loss')\n",
    "plt.plot(epochs, val_loss_values, 'b', label='Validation loss')\n",
    "plt.title('Training and validation loss')\n",
    "\n",
    "plt.xlabel('Epochs')\n",
    "plt.ylabel('Loss') \n",
    "plt.legend()\n",
    "plt.show()"
   ]
  },
  {
   "cell_type": "code",
   "execution_count": 19,
   "id": "0c08d151-c041-4259-aac1-aa1a3767b543",
   "metadata": {},
   "outputs": [
    {
     "data": {
      "image/png": "[encoded data removed]",
      "text/plain": [
       "<Figure size 640x480 with 1 Axes>"
      ]
     },
     "metadata": {},
     "output_type": "display_data"
    }
   ],
   "source": [
    "plt.clf()\n",
    "\n",
    "acc_values = history_dict['accuracy']\n",
    "val_acc_values = history_dict['val_accuracy']\n",
    "plt.plot(epochs, acc_values, 'ro', label='Training acc')\n",
    "plt.plot(epochs, val_acc_values, 'b', label='Validation acc')\n",
    "plt.title('Training and validation accuracy')\n",
    "plt.xlabel('Epochs')\n",
    "plt.ylabel('Loss')\n",
    "plt.legend()\n",
    "plt.show()"
   ]
  },
  {
   "cell_type": "code",
   "execution_count": 21,
   "id": "197e56fc-c63a-4c93-96bf-a1a346946118",
   "metadata": {},
   "outputs": [
    {
     "name": "stdout",
     "output_type": "stream",
     "text": [
      "Epoch 1/4\n",
      "\u001b[1m49/49\u001b[0m \u001b[32m━━━━━━━━━━━━━━━━━━━━\u001b[0m\u001b[37m\u001b[0m \u001b[1m2s\u001b[0m 37ms/step - accuracy: 0.7190 - loss: 0.5693\n",
      "Epoch 2/4\n",
      "\u001b[1m49/49\u001b[0m \u001b[32m━━━━━━━━━━━━━━━━━━━━\u001b[0m\u001b[37m\u001b[0m \u001b[1m2s\u001b[0m 36ms/step - accuracy: 0.9026 - loss: 0.2914\n",
      "Epoch 3/4\n",
      "\u001b[1m49/49\u001b[0m \u001b[32m━━━━━━━━━━━━━━━━━━━━\u001b[0m\u001b[37m\u001b[0m \u001b[1m2s\u001b[0m 39ms/step - accuracy: 0.9213 - loss: 0.2219\n",
      "Epoch 4/4\n",
      "\u001b[1m49/49\u001b[0m \u001b[32m━━━━━━━━━━━━━━━━━━━━\u001b[0m\u001b[37m\u001b[0m \u001b[1m2s\u001b[0m 36ms/step - accuracy: 0.9386 - loss: 0.1806\n",
      "\u001b[1m782/782\u001b[0m \u001b[32m━━━━━━━━━━━━━━━━━━━━\u001b[0m\u001b[37m\u001b[0m \u001b[1m3s\u001b[0m 4ms/step - accuracy: 0.8808 - loss: 0.2951\n"
     ]
    }
   ],
   "source": [
    "# retrain from scracth with only 4 epochs\n",
    "\n",
    "model = models.Sequential()\n",
    "model.add(layers.Dense(16, activation='relu', input_shape=(10000,)))\n",
    "model.add(layers.Dense(16, activation='relu'))\n",
    "model.add(layers.Dense(1, activation='sigmoid'))\n",
    "model.compile(optimizer='rmsprop',\n",
    "loss='binary_crossentropy',\n",
    "metrics=['accuracy'])\n",
    "model.fit(x_train, y_train, epochs=4, batch_size=512)\n",
    "results = model.evaluate(x_test, y_test)"
   ]
  },
  {
   "cell_type": "code",
   "execution_count": 22,
   "id": "f86b74ee-61d6-4569-a21f-8eb8da1223b9",
   "metadata": {},
   "outputs": [
    {
     "data": {
      "text/plain": [
       "[0.2943442165851593, 0.8829523921012878]"
      ]
     },
     "execution_count": 22,
     "metadata": {},
     "output_type": "execute_result"
    }
   ],
   "source": [
    "results"
   ]
  },
  {
   "cell_type": "code",
   "execution_count": 26,
   "id": "dd00f1c9-a1d0-4101-9997-d2b06317d210",
   "metadata": {},
   "outputs": [
    {
     "name": "stdout",
     "output_type": "stream",
     "text": [
      "\u001b[1m782/782\u001b[0m \u001b[32m━━━━━━━━━━━━━━━━━━━━\u001b[0m\u001b[37m\u001b[0m \u001b[1m1s\u001b[0m 2ms/step\n"
     ]
    },
    {
     "data": {
      "text/plain": [
       "array([[0.999944 ],\n",
       "       [0.0039338],\n",
       "       [0.340295 ]], dtype=float32)"
      ]
     },
     "execution_count": 26,
     "metadata": {},
     "output_type": "execute_result"
    }
   ],
   "source": [
    "# likelihood of test reviews being positive\n",
    "model.predict(x_test)[[1,50,250]]"
   ]
  },
  {
   "cell_type": "markdown",
   "id": "b4eab7fd-58aa-4931-abca-c4303358647e",
   "metadata": {},
   "source": [
    "stopping on 3.4.6 p. 77"
   ]
  },
  {
   "cell_type": "code",
   "execution_count": null,
   "id": "f574085d-545f-4637-962c-25d67aeccccd",
   "metadata": {},
   "outputs": [],
   "source": []
  }
 ],
 "metadata": {
  "kernelspec": {
   "display_name": "Python 3 (ipykernel)",
   "language": "python",
   "name": "python3"
  },
  "language_info": {
   "codemirror_mode": {
    "name": "ipython",
    "version": 3
   },
   "file_extension": ".py",
   "mimetype": "text/x-python",
   "name": "python",
   "nbconvert_exporter": "python",
   "pygments_lexer": "ipython3",
   "version": "3.11.7"
  }
 },
 "nbformat": 4,
 "nbformat_minor": 5
}
