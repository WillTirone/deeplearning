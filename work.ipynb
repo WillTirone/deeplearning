{
 "cells": [
  {
   "cell_type": "markdown",
   "id": "521a2b82-35a4-46c2-b294-2ba089d19e26",
   "metadata": {},
   "source": [
    "# Ch. 1 \n",
    "\n",
    "* gradient boosting for shallow learning problems \n",
    "* deep learning for perceptual problems \n",
    "\n",
    "on page 22 "
   ]
  },
  {
   "cell_type": "code",
   "execution_count": 1,
   "id": "3d5a9979-ef6d-45f9-96a6-bc9e3d44fe4a",
   "metadata": {},
   "outputs": [],
   "source": [
    "import numpy as np "
   ]
  },
  {
   "cell_type": "code",
   "execution_count": 28,
   "id": "6284182b-d101-48b6-880e-c3507c592793",
   "metadata": {},
   "outputs": [],
   "source": [
    "x = np.random.uniform(-5,5, (4,4))\n",
    "y = np.random.uniform(-5,5, (4,4))"
   ]
  },
  {
   "cell_type": "code",
   "execution_count": 22,
   "id": "b5dca4b7-6507-464b-8613-4d4e57df7ac9",
   "metadata": {},
   "outputs": [],
   "source": [
    "def naive_relu(x):\n",
    "    assert len(x.shape) == 2\n",
    "    \n",
    "    x = x.copy()\n",
    "    \n",
    "    for i in range(x.shape[0]):\n",
    "        for j in range(x.shape[1]):\n",
    "            x[i, j] = max(x[i, j], 0)\n",
    "            \n",
    "    return x"
   ]
  },
  {
   "cell_type": "code",
   "execution_count": 30,
   "id": "d536ff3d-f535-4fe9-9a31-26dd345b5cb5",
   "metadata": {},
   "outputs": [
    {
     "data": {
      "text/plain": [
       "array([[2.84252693, 0.        , 1.96052552, 0.91985948],\n",
       "       [0.        , 3.37685683, 0.        , 2.11250857],\n",
       "       [3.13430744, 0.        , 0.        , 0.        ],\n",
       "       [0.        , 4.78287969, 0.        , 0.        ]])"
      ]
     },
     "execution_count": 30,
     "metadata": {},
     "output_type": "execute_result"
    }
   ],
   "source": [
    "naive_relu(x)"
   ]
  },
  {
   "cell_type": "code",
   "execution_count": 31,
   "id": "5247b0cc-8d2f-4860-83cf-a6d2fdd698b3",
   "metadata": {},
   "outputs": [],
   "source": [
    "def naive_add(x, y):\n",
    "    \n",
    "    assert len(x.shape) == 2\n",
    "    assert x.shape == y.shape\n",
    "    \n",
    "    x = x.copy()\n",
    "    for i in range(x.shape[0]):\n",
    "        for j in range(x.shape[1]):\n",
    "            x[i, j] += y[i, j]\n",
    "            \n",
    "    return x"
   ]
  },
  {
   "cell_type": "code",
   "execution_count": 32,
   "id": "a7231ec9-e399-4139-a168-220408aec31d",
   "metadata": {},
   "outputs": [
    {
     "data": {
      "text/plain": [
       "array([[ 2.63696977, -2.30371666,  4.12741541, -3.06515319],\n",
       "       [-0.13951455,  1.32102723, -5.60457475,  4.73492214],\n",
       "       [ 1.79633823, -6.29120227, -2.33763904, -8.44410818],\n",
       "       [-2.1028077 ,  8.60946413, -6.65281469, -7.59659039]])"
      ]
     },
     "execution_count": 32,
     "metadata": {},
     "output_type": "execute_result"
    }
   ],
   "source": [
    "naive_add(x,y)"
   ]
  },
  {
   "cell_type": "code",
   "execution_count": 33,
   "id": "bad50ebb-41e8-4ce0-bc98-b00ea541571a",
   "metadata": {},
   "outputs": [],
   "source": [
    "z = x + y # element wise addition in numpy \n",
    "z = np.maximum(x, 0) # numpy implemented relu"
   ]
  },
  {
   "cell_type": "code",
   "execution_count": 47,
   "id": "3a5f2d2e-a831-41ae-8b85-5d93627a6fd6",
   "metadata": {},
   "outputs": [
    {
     "data": {
      "text/plain": [
       "(4, 4)"
      ]
     },
     "execution_count": 47,
     "metadata": {},
     "output_type": "execute_result"
    }
   ],
   "source": [
    "q = z.copy()\n",
    "q.shape"
   ]
  },
  {
   "cell_type": "code",
   "execution_count": 50,
   "id": "16832db4-7794-4030-ae79-d9ed1b8e3b5d",
   "metadata": {},
   "outputs": [
    {
     "data": {
      "text/plain": [
       "(16, 1)"
      ]
     },
     "execution_count": 50,
     "metadata": {},
     "output_type": "execute_result"
    }
   ],
   "source": [
    "q.reshape((16,1)).shape"
   ]
  },
  {
   "cell_type": "code",
   "execution_count": 57,
   "id": "a253fc4e-6ea6-49b6-bfa8-4352f08b2cb5",
   "metadata": {},
   "outputs": [
    {
     "data": {
      "text/plain": [
       "array([[1, 7],\n",
       "       [5, 1]])"
      ]
     },
     "execution_count": 57,
     "metadata": {},
     "output_type": "execute_result"
    }
   ],
   "source": [
    "A = np.array([[1,5], [7,1]])\n",
    "A.transpose()"
   ]
  },
  {
   "cell_type": "markdown",
   "id": "c7d5a0e6-f909-416b-9d84-178886f3c38a",
   "metadata": {},
   "source": [
    "On p. 46, ch. 2.4"
   ]
  },
  {
   "cell_type": "code",
   "execution_count": null,
   "id": "6fc74e52-71c8-4566-a5b1-975f37991123",
   "metadata": {},
   "outputs": [],
   "source": []
  }
 ],
 "metadata": {
  "kernelspec": {
   "display_name": "Python 3 (ipykernel)",
   "language": "python",
   "name": "python3"
  },
  "language_info": {
   "codemirror_mode": {
    "name": "ipython",
    "version": 3
   },
   "file_extension": ".py",
   "mimetype": "text/x-python",
   "name": "python",
   "nbconvert_exporter": "python",
   "pygments_lexer": "ipython3",
   "version": "3.9.7"
  }
 },
 "nbformat": 4,
 "nbformat_minor": 5
}
